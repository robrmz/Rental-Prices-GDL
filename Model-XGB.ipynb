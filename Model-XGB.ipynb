{
 "cells": [
  {
   "cell_type": "code",
   "execution_count": 149,
   "id": "2af77cc8",
   "metadata": {},
   "outputs": [],
   "source": [
    "import pandas as pd\n",
    "from sklearn.linear_model import LinearRegression\n",
    "from sklearn.model_selection import train_test_split\n",
    "import matplotlib.pyplot as plt\n",
    "from sklearn.metrics import mean_squared_error, r2_score\n",
    "import xgboost as xgb"
   ]
  },
  {
   "cell_type": "code",
   "execution_count": 150,
   "id": "c4263bd2",
   "metadata": {},
   "outputs": [],
   "source": [
    "df = pd.read_csv('rental_data_formatted.csv')\n",
    "\n",
    "df = df.set_index('Unnamed: 0')\n",
    "\n",
    "df = df.dropna()\n",
    "\n",
    "df['bathrooms'] = df['bathrooms'].astype(int)\n",
    "df['garage'] = df['garage'].astype(int)\n",
    "\n",
    "df['area'] = df['area'].astype(int)\n",
    "df['area'] = df['area'][df['area'] < 600]\n",
    "\n",
    "df['price'] = df['price'][df['price'] < 50000]\n",
    "\n",
    "df = df.dropna()\n",
    "#X = df['area']\n",
    "#X = X.values.reshape(-1,1)\n",
    "X = df[['bedrooms','bathrooms','garage','area']]\n",
    "y = df['price']"
   ]
  },
  {
   "cell_type": "code",
   "execution_count": 151,
   "id": "dbb5debb",
   "metadata": {},
   "outputs": [],
   "source": [
    "X_train, X_test, y_train, y_test = train_test_split(X,y, test_size=0.2)"
   ]
  },
  {
   "cell_type": "code",
   "execution_count": 152,
   "id": "bd2f8cbc",
   "metadata": {},
   "outputs": [
    {
     "name": "stderr",
     "output_type": "stream",
     "text": [
      "C:\\Users\\Rob_DS\\anaconda3\\lib\\site-packages\\xgboost\\data.py:250: FutureWarning: pandas.Int64Index is deprecated and will be removed from pandas in a future version. Use pandas.Index with the appropriate dtype instead.\n",
      "  elif isinstance(data.columns, (pd.Int64Index, pd.RangeIndex)):\n"
     ]
    },
    {
     "data": {
      "text/plain": [
       "XGBRegressor(base_score=0.5, booster='gbtree', colsample_bylevel=1,\n",
       "             colsample_bynode=1, colsample_bytree=1, enable_categorical=False,\n",
       "             gamma=0, gpu_id=-1, importance_type=None,\n",
       "             interaction_constraints='', learning_rate=0.2, max_delta_step=0,\n",
       "             max_depth=5, min_child_weight=1, missing=nan,\n",
       "             monotone_constraints='()', n_estimators=10000, n_jobs=12,\n",
       "             num_parallel_tree=1, predictor='auto', random_state=0, reg_alpha=0,\n",
       "             reg_lambda=1, scale_pos_weight=1, subsample=1, tree_method='exact',\n",
       "             validate_parameters=1, verbosity=None)"
      ]
     },
     "execution_count": 152,
     "metadata": {},
     "output_type": "execute_result"
    }
   ],
   "source": [
    "xgb = xgb.XGBRegressor(n_estimators=10000, max_depth=5, learning_rate=0.2)\n",
    "xgb.fit(X_train,y_train)"
   ]
  },
  {
   "cell_type": "code",
   "execution_count": 153,
   "id": "0a450408",
   "metadata": {},
   "outputs": [
    {
     "name": "stdout",
     "output_type": "stream",
     "text": [
      "0.24673729634777442\n",
      "8943.963103878932\n"
     ]
    }
   ],
   "source": [
    "y_pred = xgb.predict(X_test)\n",
    "\n",
    "print(r2_score(y_test,y_pred))\n",
    "print(mean_squared_error(y_test,y_pred, squared=False))"
   ]
  },
  {
   "cell_type": "code",
   "execution_count": 154,
   "id": "d4485eb1",
   "metadata": {},
   "outputs": [
    {
     "data": {
      "text/plain": [
       "'plt.scatter(X_test, y_test, color=\"black\")\\nplt.plot(X_test, y_pred, color=\"blue\", linewidth=3)\\nplt.show()'"
      ]
     },
     "execution_count": 154,
     "metadata": {},
     "output_type": "execute_result"
    }
   ],
   "source": [
    "\"\"\"plt.scatter(X_test, y_test, color=\"black\")\n",
    "plt.plot(X_test, y_pred, color=\"blue\", linewidth=3)\n",
    "plt.show()\"\"\""
   ]
  },
  {
   "cell_type": "code",
   "execution_count": 155,
   "id": "2d0f877a",
   "metadata": {},
   "outputs": [
    {
     "ename": "NameError",
     "evalue": "name 'reg' is not defined",
     "output_type": "error",
     "traceback": [
      "\u001b[1;31m---------------------------------------------------------------------------\u001b[0m",
      "\u001b[1;31mNameError\u001b[0m                                 Traceback (most recent call last)",
      "Input \u001b[1;32mIn [155]\u001b[0m, in \u001b[0;36m<cell line: 1>\u001b[1;34m()\u001b[0m\n\u001b[1;32m----> 1\u001b[0m \u001b[38;5;28mprint\u001b[39m(\u001b[43mreg\u001b[49m\u001b[38;5;241m.\u001b[39mpredict([[\u001b[38;5;241m3\u001b[39m,\u001b[38;5;241m2\u001b[39m,\u001b[38;5;241m1\u001b[39m,\u001b[38;5;241m100\u001b[39m]]))\n",
      "\u001b[1;31mNameError\u001b[0m: name 'reg' is not defined"
     ]
    }
   ],
   "source": [
    "print(reg.predict([[3,2,1,100]]))"
   ]
  },
  {
   "cell_type": "code",
   "execution_count": null,
   "id": "e6d11c1d",
   "metadata": {},
   "outputs": [],
   "source": [
    "\"\"\"plt.scatter(X,y)\"\"\""
   ]
  },
  {
   "cell_type": "code",
   "execution_count": null,
   "id": "65bc433e",
   "metadata": {},
   "outputs": [],
   "source": [
    "df['area'].values"
   ]
  },
  {
   "cell_type": "code",
   "execution_count": null,
   "id": "5aa991df",
   "metadata": {},
   "outputs": [],
   "source": [
    "df['price'].values"
   ]
  },
  {
   "cell_type": "code",
   "execution_count": null,
   "id": "186cb8d5",
   "metadata": {},
   "outputs": [],
   "source": [
    "df.hist(column='bedrooms', grid=False, legend=True)\n",
    "df.hist(column='price', grid=False, legend=True)\n",
    "df.hist(column='bathrooms', grid=False, legend=True)\n",
    "df.hist(column='garage', grid=False, legend=True)\n",
    "df.hist(column='area', grid=False, legend=True)"
   ]
  },
  {
   "cell_type": "code",
   "execution_count": null,
   "id": "2cb472ab",
   "metadata": {},
   "outputs": [],
   "source": []
  }
 ],
 "metadata": {
  "kernelspec": {
   "display_name": "Python 3 (ipykernel)",
   "language": "python",
   "name": "python3"
  },
  "language_info": {
   "codemirror_mode": {
    "name": "ipython",
    "version": 3
   },
   "file_extension": ".py",
   "mimetype": "text/x-python",
   "name": "python",
   "nbconvert_exporter": "python",
   "pygments_lexer": "ipython3",
   "version": "3.9.12"
  }
 },
 "nbformat": 4,
 "nbformat_minor": 5
}
