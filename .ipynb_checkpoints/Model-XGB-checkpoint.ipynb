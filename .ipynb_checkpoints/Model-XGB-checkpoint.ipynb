{
 "cells": [
  {
   "cell_type": "code",
   "execution_count": 358,
   "id": "2af77cc8",
   "metadata": {},
   "outputs": [],
   "source": [
    "import pandas as pd\n",
    "from sklearn.linear_model import LinearRegression\n",
    "from sklearn.model_selection import train_test_split\n",
    "import matplotlib.pyplot as plt\n",
    "from sklearn.metrics import mean_squared_error, r2_score"
   ]
  },
  {
   "cell_type": "code",
   "execution_count": 359,
   "id": "c4263bd2",
   "metadata": {},
   "outputs": [],
   "source": [
    "df = pd.read_csv('rental_data_formatted.csv')\n",
    "\n",
    "df = df.set_index('Unnamed: 0')\n",
    "\n",
    "df = df.dropna()\n",
    "\n",
    "df['bathrooms'] = df['bathrooms'].astype(int)\n",
    "df['garage'] = df['garage'].astype(int)\n",
    "\n",
    "df['area'] = df['area'].astype(int)\n",
    "df['area'] = df['area'][df['area'] < 600]\n",
    "\n",
    "df['price'] = df['price'][df['price'] < 50000]\n",
    "\n",
    "df = df.dropna()\n",
    "#X = df['area']\n",
    "#X = X.values.reshape(-1,1)\n",
    "X = df[['bedrooms','bathrooms','garage','area']]\n",
    "y = df['price']"
   ]
  },
  {
   "cell_type": "code",
   "execution_count": 360,
   "id": "dbb5debb",
   "metadata": {},
   "outputs": [],
   "source": [
    "X_train, X_test, y_train, y_test = train_test_split(X,y, test_size=0.2)"
   ]
  },
  {
   "cell_type": "code",
   "execution_count": 361,
   "id": "bd2f8cbc",
   "metadata": {},
   "outputs": [],
   "source": [
    "reg = LinearRegression().fit(X_train, y_train)"
   ]
  },
  {
   "cell_type": "code",
   "execution_count": 362,
   "id": "0a450408",
   "metadata": {},
   "outputs": [
    {
     "name": "stdout",
     "output_type": "stream",
     "text": [
      "0.46824848514868456\n",
      "6136.428693012547\n"
     ]
    }
   ],
   "source": [
    "y_pred = reg.predict(X_test)\n",
    "\n",
    "print(r2_score(y_test,y_pred))\n",
    "print(mean_squared_error(y_test,y_pred, squared=False))"
   ]
  },
  {
   "cell_type": "code",
   "execution_count": 363,
   "id": "d4485eb1",
   "metadata": {},
   "outputs": [
    {
     "data": {
      "text/plain": [
       "'plt.scatter(X_test, y_test, color=\"black\")\\nplt.plot(X_test, y_pred, color=\"blue\", linewidth=3)\\nplt.show()'"
      ]
     },
     "execution_count": 363,
     "metadata": {},
     "output_type": "execute_result"
    }
   ],
   "source": [
    "\"\"\"plt.scatter(X_test, y_test, color=\"black\")\n",
    "plt.plot(X_test, y_pred, color=\"blue\", linewidth=3)\n",
    "plt.show()\"\"\""
   ]
  },
  {
   "cell_type": "code",
   "execution_count": 364,
   "id": "2d0f877a",
   "metadata": {},
   "outputs": [
    {
     "name": "stdout",
     "output_type": "stream",
     "text": [
      "[12622.54892115]\n"
     ]
    },
    {
     "name": "stderr",
     "output_type": "stream",
     "text": [
      "C:\\Users\\Rob_DS\\anaconda3\\lib\\site-packages\\sklearn\\base.py:450: UserWarning: X does not have valid feature names, but LinearRegression was fitted with feature names\n",
      "  warnings.warn(\n"
     ]
    }
   ],
   "source": [
    "print(reg.predict([[3,2,1,100]]))"
   ]
  },
  {
   "cell_type": "code",
   "execution_count": 365,
   "id": "e6d11c1d",
   "metadata": {},
   "outputs": [
    {
     "data": {
      "text/plain": [
       "'plt.scatter(X,y)'"
      ]
     },
     "execution_count": 365,
     "metadata": {},
     "output_type": "execute_result"
    }
   ],
   "source": [
    "\"\"\"plt.scatter(X,y)\"\"\""
   ]
  },
  {
   "cell_type": "code",
   "execution_count": 366,
   "id": "65bc433e",
   "metadata": {},
   "outputs": [
    {
     "data": {
      "text/plain": [
       "array([ 85., 110.,  70., 159.,  90., 120., 100., 103., 140., 282.,  88.,\n",
       "       105., 105.,  99.,  85., 110., 120.,  80.,  85., 160.,  88.,  95.,\n",
       "       110.,  92.,  65., 108., 357.,  99.,  85., 173., 135., 105., 135.,\n",
       "       144., 117., 117., 190.,  80.,  90.,  85.,  85., 102.,  90.,  88.,\n",
       "       105., 282., 140., 105., 150., 127.,  75., 167., 110., 183., 136.,\n",
       "       167., 127.,  90., 100., 120.,  88., 127., 110., 107., 120.,  85.,\n",
       "       145., 144., 144., 160.,  96., 108., 300., 420., 133., 102., 410.,\n",
       "       140.,  85.,  80., 180., 100., 100., 120., 100.,  80., 120., 125.,\n",
       "       100., 280., 455.,  90., 349.,  85., 167., 108., 162., 150., 310.,\n",
       "       100., 234., 440., 140.,  83., 298., 129., 155., 391., 148.,  90.,\n",
       "        69., 161., 100., 105., 130., 130., 103.,  80., 168.,  95., 180.,\n",
       "       142.,  67., 300., 135.,  90.,  76., 201.,  99., 160., 420., 300.,\n",
       "        82.,  60., 180., 193.,  69.,  66., 120., 110.,  67.,  96., 120.,\n",
       "       145., 282., 111., 190., 465., 159., 181.,  90., 456., 127., 253.,\n",
       "        70., 225., 148., 113., 150.,  55.,  55., 130., 148., 200., 110.,\n",
       "       410., 160., 194., 170., 150.,  65., 147., 105.,  55.,  90., 350.,\n",
       "       199.,  50., 391., 108.,  16., 113.,  90.,  81.,  65., 130., 230.,\n",
       "       370., 370., 345., 118.,  97., 234., 115., 159., 144., 146., 133.,\n",
       "       200., 125., 193.,  83., 125.,  77., 500., 160., 105.,  84., 281.,\n",
       "       160., 163., 255., 106., 155., 105., 155., 154., 212., 248., 125.,\n",
       "        91.,  81., 169., 170., 110., 175.,  99., 218., 292., 200., 126.,\n",
       "        55., 250.,  50., 103., 102., 102., 121., 144., 159.,  62.,  91.,\n",
       "        91., 189.,  80., 300., 300., 240.,  97., 168., 153., 153., 140.,\n",
       "        70., 154., 104.,  65.,  95., 119., 133., 117., 145., 133., 135.,\n",
       "       108.,  80., 115., 133., 145., 320., 320., 360., 117.,  90., 200.,\n",
       "       308., 103., 120., 115.,  90.,  42., 280., 300., 127.,  84., 106.,\n",
       "       133.,  88.,  90.,  83., 122.,  72., 147., 156.,  98.,  90.,  83.,\n",
       "       100.,  90., 150., 119., 115., 115.,  70.,  80., 125., 128.,  90.,\n",
       "        96., 180., 242., 175., 300., 155., 148.])"
      ]
     },
     "execution_count": 366,
     "metadata": {},
     "output_type": "execute_result"
    }
   ],
   "source": [
    "df['area'].values"
   ]
  },
  {
   "cell_type": "code",
   "execution_count": 367,
   "id": "5aa991df",
   "metadata": {},
   "outputs": [
    {
     "data": {
      "text/plain": [
       "array([10800., 29800., 16000., 29000., 14500., 23000., 26250., 16500.,\n",
       "       17000., 35000., 12000., 17000., 17000., 13500., 10800., 29800.,\n",
       "       24000.,  4900.,  8500., 36000., 12000., 25500., 16000., 32000.,\n",
       "       15500., 12000., 35000., 13500., 13200., 38000., 21000., 17000.,\n",
       "       21000., 25000., 27000., 27000., 24000.,  6800., 12000., 13200.,\n",
       "        8500.,  6600., 18000., 12000., 17000., 35000., 17000., 17000.,\n",
       "       13200., 12500.,  9500., 40000., 30000., 38000., 35000., 45000.,\n",
       "       21000., 14500., 26250., 28500., 13000., 15000., 26000., 26000.,\n",
       "       26000., 11800., 25500., 25500., 25500., 22000., 32000., 19900.,\n",
       "       18500., 30000., 43000., 40000., 38000., 38000.,  8500., 15000.,\n",
       "       25000., 26000., 26000., 26000., 26000., 32000., 29800., 23000.,\n",
       "       12500., 17000., 40000., 17500., 43000., 23000., 32000., 11500.,\n",
       "       16600., 28000., 29500., 26250., 28000., 45000., 20000., 18000.,\n",
       "       19000., 35000., 11900., 25000., 27500., 17500.,  8000.,  9000.,\n",
       "       11000., 14000., 18000., 28000., 16500.,  6800., 19900., 13500.,\n",
       "       29000., 30000.,  7500., 43000., 20000., 14700., 11300., 24000.,\n",
       "       14000., 22000., 40000., 30000., 11500.,  6900., 17500., 25000.,\n",
       "        7900.,  8200., 23000., 29800.,  8200.,  7500., 21000., 22500.,\n",
       "       40000., 15500., 24000., 33000., 26000., 32000., 13900., 35000.,\n",
       "       29000., 30000.,  7500., 25000., 38000., 15000., 14000., 10000.,\n",
       "        8000., 33000., 30200., 28000., 16000., 45000., 30000., 41755.,\n",
       "       16000., 20000.,  6500., 22000., 15000.,  6700., 12000., 32500.,\n",
       "       20500.,  5000., 25000.,  5000., 17000., 14600.,  5500., 12500.,\n",
       "       15500.,  8000., 21000., 38500., 38500., 40000., 18800., 20000.,\n",
       "        9500., 11600., 29000., 21000., 23000.,  8500., 14400., 31500.,\n",
       "       18000., 10000.,  9500.,  9500., 29500., 36000., 17000., 10950.,\n",
       "       45000., 13500., 27000., 20000., 23000., 20500., 23000., 23000.,\n",
       "       20000., 21000., 15500., 18000., 12500., 19500., 17000., 40000.,\n",
       "       21000., 31000., 19500., 21000., 22000., 12900., 15000.,  6500.,\n",
       "       21000.,  6500., 10900., 13500., 14200., 13800., 25000., 29000.,\n",
       "       12500., 26500., 20000., 19500.,  7500., 46000., 32000., 15500.,\n",
       "       14200., 40900., 22500., 22500., 19500., 16000., 28000., 12000.,\n",
       "        6200.,  9800., 21000.,  7500., 25500., 23000., 14500., 21000.,\n",
       "       12000.,  6800., 11300., 14500., 28000., 25000., 25000., 45000.,\n",
       "       27000., 12000., 30000., 25000., 16500., 29000., 14000.,  7000.,\n",
       "        4300., 34000., 20000., 14000., 16000., 12500., 11000., 15000.,\n",
       "       10000.,  9250., 15000., 27000., 28000., 19000., 26000., 13000.,\n",
       "       10900., 15000., 10500., 24000., 14500., 34200., 11000., 12000.,\n",
       "        9000., 23000., 16500.,  9000.,  8500., 21900., 40000., 18800.,\n",
       "       28000., 10000., 29600.])"
      ]
     },
     "execution_count": 367,
     "metadata": {},
     "output_type": "execute_result"
    }
   ],
   "source": [
    "df['price'].values"
   ]
  },
  {
   "cell_type": "code",
   "execution_count": 373,
   "id": "186cb8d5",
   "metadata": {},
   "outputs": [
    {
     "data": {
      "text/plain": [
       "array([[<AxesSubplot:title={'center':'area'}>]], dtype=object)"
      ]
     },
     "execution_count": 373,
     "metadata": {},
     "output_type": "execute_result"
    },
    {
     "data": {
      "image/png": "[encoded data removed]",
      "text/plain": [
       "<Figure size 432x288 with 1 Axes>"
      ]
     },
     "metadata": {
      "needs_background": "light"
     },
     "output_type": "display_data"
    },
    {
     "data": {
      "image/png": "[encoded data removed]",
      "text/plain": [
       "<Figure size 432x288 with 1 Axes>"
      ]
     },
     "metadata": {
      "needs_background": "light"
     },
     "output_type": "display_data"
    },
    {
     "data": {
      "image/png": "[encoded data removed]",
      "text/plain": [
       "<Figure size 432x288 with 1 Axes>"
      ]
     },
     "metadata": {
      "needs_background": "light"
     },
     "output_type": "display_data"
    },
    {
     "data": {
      "image/png": "[encoded data removed]",
      "text/plain": [
       "<Figure size 432x288 with 1 Axes>"
      ]
     },
     "metadata": {
      "needs_background": "light"
     },
     "output_type": "display_data"
    },
    {
     "data": {
      "image/png": "[encoded data removed]",
      "text/plain": [
       "<Figure size 432x288 with 1 Axes>"
      ]
     },
     "metadata": {
      "needs_background": "light"
     },
     "output_type": "display_data"
    }
   ],
   "source": [
    "df.hist(column='bedrooms', grid=False, legend=True)\n",
    "df.hist(column='price', grid=False, legend=True)\n",
    "df.hist(column='bathrooms', grid=False, legend=True)\n",
    "df.hist(column='garage', grid=False, legend=True)\n",
    "df.hist(column='area', grid=False, legend=True)"
   ]
  },
  {
   "cell_type": "code",
   "execution_count": null,
   "id": "2cb472ab",
   "metadata": {},
   "outputs": [],
   "source": []
  }
 ],
 "metadata": {
  "kernelspec": {
   "display_name": "Python 3 (ipykernel)",
   "language": "python",
   "name": "python3"
  },
  "language_info": {
   "codemirror_mode": {
    "name": "ipython",
    "version": 3
   },
   "file_extension": ".py",
   "mimetype": "text/x-python",
   "name": "python",
   "nbconvert_exporter": "python",
   "pygments_lexer": "ipython3",
   "version": "3.9.12"
  }
 },
 "nbformat": 4,
 "nbformat_minor": 5
}
