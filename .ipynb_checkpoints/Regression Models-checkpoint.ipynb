{
 "cells": [
  {
   "cell_type": "code",
   "execution_count": 20,
   "id": "34df19ef",
   "metadata": {},
   "outputs": [
    {
     "data": {
      "text/plain": [
       "location        Zapopan\n",
       "price             22300\n",
       "bedrooms              3\n",
       "bathrooms             4\n",
       "garage                2\n",
       "area                180\n",
       "location_fix        138\n",
       "Name: 0, dtype: object"
      ]
     },
     "execution_count": 20,
     "metadata": {},
     "output_type": "execute_result"
    }
   ],
   "source": [
    "import pandas as pd\n",
    "from sklearn.model_selection import train_test_split\n",
    "from sklearn.preprocessing import LabelEncoder\n",
    "import matplotlib.pyplot as plt\n",
    "\n",
    "data = pd.read_csv(\"data_wrangled.csv\")\n",
    "\n",
    "data = data[[\"location\",\"price\",\"bedrooms\",\"bathrooms\",\"garage\",\"area\"]]\n",
    "\n",
    "# creating instance of labelencoder\n",
    "labelencoder = LabelEncoder()\n",
    "\n",
    "# Assigning numerical values and storing in another column\n",
    "data['location_fix'] = labelencoder.fit_transform(data['location'])\n",
    "\n",
    "\n",
    "X = data[[\"bedrooms\", \"bathrooms\", \"garage\", \"area\"]]\n",
    "y = data[[\"price\"]]\n",
    "\n",
    "\n",
    "data[[\"location\",\"location_fix\"]]\n"
   ]
  },
  {
   "cell_type": "code",
   "execution_count": 21,
   "id": "3805d136",
   "metadata": {},
   "outputs": [
    {
     "name": "stderr",
     "output_type": "stream",
     "text": [
      "C:\\Users\\Rob\\AppData\\Local\\Temp/ipykernel_7404/1388994617.py:9: DataConversionWarning: A column-vector y was passed when a 1d array was expected. Please change the shape of y to (n_samples,), for example using ravel().\n",
      "  model.fit(X_train, y_train)\n"
     ]
    },
    {
     "name": "stdout",
     "output_type": "stream",
     "text": [
      "MAE: 183355403.04235467\n"
     ]
    },
    {
     "name": "stderr",
     "output_type": "stream",
     "text": [
      "C:\\Users\\Rob\\AppData\\Local\\Temp/ipykernel_7404/1388994617.py:20: DataConversionWarning: A column-vector y was passed when a 1d array was expected. Please change the shape of y to (n_samples,), for example using ravel().\n",
      "  final_model.fit(X,y)\n"
     ]
    },
    {
     "name": "stdout",
     "output_type": "stream",
     "text": [
      "3053.205109558556\n",
      "5511.827929628057\n"
     ]
    }
   ],
   "source": [
    "X_train, X_valid, y_train, y_valid = train_test_split(X, y, train_size= 0.8, test_size=0.2, \n",
    "                                                      random_state=0)\n",
    "\n",
    "from sklearn.ensemble import RandomForestRegressor\n",
    "from sklearn.metrics import mean_absolute_error\n",
    "from sklearn.metrics import mean_squared_error\n",
    "\n",
    "model = RandomForestRegressor(n_estimators=1000, random_state=0)\n",
    "model.fit(X_train, y_train)\n",
    "preds = model.predict(X_valid)\n",
    "\n",
    "# Evaluate the model\n",
    "score = mean_absolute_error(y_valid, preds)\n",
    "score_mse = mean_squared_error(y_valid,preds)\n",
    "print('MAE:', score_mse)\n",
    "\n",
    "#how to print predictions vs actual values\n",
    "\n",
    "final_model = RandomForestRegressor(n_estimators=1000, random_state=0)\n",
    "final_model.fit(X,y)\n",
    "\n",
    "preds = final_model.predict(X)\n",
    "score = mean_absolute_error(y,preds)\n",
    "print(score)\n",
    "\n",
    "\n",
    "print(mean_squared_error(y, preds,squared=False))"
   ]
  },
  {
   "cell_type": "code",
   "execution_count": 22,
   "id": "11b75558",
   "metadata": {},
   "outputs": [
    {
     "name": "stdout",
     "output_type": "stream",
     "text": [
      "9311.325241944662\n",
      "MSE: \n",
      "16477.24549947376\n",
      "7606.503234631195\n",
      "MSE: \n",
      "12877.584284045495\n"
     ]
    }
   ],
   "source": [
    "from sklearn.linear_model import LinearRegression\n",
    "\n",
    "reg = LinearRegression().fit(X_train, y_train)\n",
    "reg.score(X_train, y_train)\n",
    "\n",
    "reg.predict(X_valid)\n",
    "\n",
    "predictions = reg.predict(X_valid)\n",
    "\n",
    "lr_score = mean_absolute_error(y_valid, predictions)\n",
    "print(lr_score)\n",
    "print(\"MSE: \")\n",
    "print(mean_squared_error(y_valid, predictions,squared=False))\n",
    "\n",
    "\n",
    "final_reg = LinearRegression().fit(X, y)\n",
    "final_reg_preds = final_reg.predict(X)\n",
    "final_reg_score = mean_absolute_error(y,final_reg_preds)\n",
    "print(final_reg_score)\n",
    "print(\"MSE: \")\n",
    "print(mean_squared_error(y, final_reg_preds,squared=False))"
   ]
  },
  {
   "cell_type": "code",
   "execution_count": 23,
   "id": "31b8d7ba",
   "metadata": {},
   "outputs": [
    {
     "name": "stdout",
     "output_type": "stream",
     "text": [
      "MSE: \n",
      "13511.72231851773\n"
     ]
    }
   ],
   "source": [
    "import xgboost as xgb\n",
    "\n",
    "model_xgb = xgb.XGBRegressor(n_estimators=50, max_depth=3, learning_rate=0.2)\n",
    "model_xgb.fit(X_train,y_train)\n",
    "\n",
    "xgb_predictions = model_xgb.predict(X_valid)\n",
    "\n",
    "xgb_score = mean_absolute_error(y_valid, xgb_predictions)\n",
    "xgb_score\n",
    "print(\"MSE: \")\n",
    "print(mean_squared_error(y_valid, xgb_predictions,squared=False))\n"
   ]
  },
  {
   "cell_type": "code",
   "execution_count": 24,
   "id": "2e307b75",
   "metadata": {},
   "outputs": [
    {
     "name": "stdout",
     "output_type": "stream",
     "text": [
      "MSE: \n",
      "2917.1317282739424\n"
     ]
    }
   ],
   "source": [
    "final_xgb = xgb.XGBRegressor(n_estimators=10000, max_depth=4, learning_rate=0.2)\n",
    "final_xgb.fit(X,y)\n",
    "final_xgb_predictions = final_xgb.predict(X)\n",
    "\n",
    "final_xgb_score = mean_absolute_error(y, final_xgb_predictions)\n",
    "\n",
    "final_xgb_score\n",
    "\n",
    "print(\"MSE: \")\n",
    "print(mean_squared_error(y, final_xgb_predictions,squared=False))\n"
   ]
  },
  {
   "cell_type": "code",
   "execution_count": 25,
   "id": "7dcc624a",
   "metadata": {},
   "outputs": [
    {
     "data": {
      "image/png": "[encoded data removed]",
      "text/plain": [
       "<Figure size 432x288 with 1 Axes>"
      ]
     },
     "metadata": {
      "needs_background": "light"
     },
     "output_type": "display_data"
    },
    {
     "data": {
      "text/html": [
       "<div>\n",
       "<style scoped>\n",
       "    .dataframe tbody tr th:only-of-type {\n",
       "        vertical-align: middle;\n",
       "    }\n",
       "\n",
       "    .dataframe tbody tr th {\n",
       "        vertical-align: top;\n",
       "    }\n",
       "\n",
       "    .dataframe thead th {\n",
       "        text-align: right;\n",
       "    }\n",
       "</style>\n",
       "<table border=\"1\" class=\"dataframe\">\n",
       "  <thead>\n",
       "    <tr style=\"text-align: right;\">\n",
       "      <th></th>\n",
       "      <th>bedrooms</th>\n",
       "      <th>bathrooms</th>\n",
       "      <th>garage</th>\n",
       "      <th>area</th>\n",
       "    </tr>\n",
       "  </thead>\n",
       "  <tbody>\n",
       "    <tr>\n",
       "      <th>0</th>\n",
       "      <td>3</td>\n",
       "      <td>2</td>\n",
       "      <td>1</td>\n",
       "      <td>100</td>\n",
       "    </tr>\n",
       "  </tbody>\n",
       "</table>\n",
       "</div>"
      ],
      "text/plain": [
       "   bedrooms  bathrooms  garage  area\n",
       "0         3          2       1   100"
      ]
     },
     "execution_count": 25,
     "metadata": {},
     "output_type": "execute_result"
    }
   ],
   "source": [
    "import matplotlib.pyplot as plt\n",
    "\n",
    "\n",
    "plt.scatter(y, final_xgb_predictions, color='red')\n",
    "plt.show()\n",
    "\n",
    "test = pd.DataFrame([[3, 2, 1, 100]], columns = [\"bedrooms\",\"bathrooms\",\"garage\",\"area\"])\n",
    "\n",
    "final_xgb.predict(pd.DataFrame(test))\n",
    "\n",
    "test"
   ]
  },
  {
   "cell_type": "code",
   "execution_count": 26,
   "id": "93589909",
   "metadata": {},
   "outputs": [
    {
     "data": {
      "image/png": "[encoded data removed]",
      "text/plain": [
       "<Figure size 720x720 with 1 Axes>"
      ]
     },
     "metadata": {
      "needs_background": "light"
     },
     "output_type": "display_data"
    }
   ],
   "source": [
    "import numpy as np\n",
    "\n",
    "y = np.array(y)\n",
    "\n",
    "plt.figure(figsize=(10,10))\n",
    "plt.scatter(y, final_reg_preds, c='crimson')\n",
    "plt.yscale('log')\n",
    "plt.xscale('log')\n",
    "\n",
    "p1 = max(max(final_reg_preds), max(y))\n",
    "p2 = min(min(final_reg_preds), min(y))\n",
    "plt.plot([p1, p2], [p1, p2], 'b-')\n",
    "plt.xlabel('True Values', fontsize=15)\n",
    "plt.ylabel('Predictions', fontsize=15)\n",
    "plt.axis('equal')\n",
    "plt.show()"
   ]
  },
  {
   "cell_type": "code",
   "execution_count": 27,
   "id": "136eee87",
   "metadata": {},
   "outputs": [
    {
     "data": {
      "image/png": "[encoded data removed]",
      "text/plain": [
       "<Figure size 720x720 with 1 Axes>"
      ]
     },
     "metadata": {
      "needs_background": "light"
     },
     "output_type": "display_data"
    }
   ],
   "source": [
    "plt.figure(figsize=(10,10))\n",
    "plt.scatter(y, preds, c='crimson')\n",
    "plt.yscale('log')\n",
    "plt.xscale('log')\n",
    "\n",
    "p1 = max(max(preds), max(y))\n",
    "p2 = min(min(preds), min(y))\n",
    "plt.plot([p1, p2], [p1, p2], 'b-')\n",
    "plt.xlabel('True Values', fontsize=15)\n",
    "plt.ylabel('Predictions', fontsize=15)\n",
    "plt.axis('equal')\n",
    "plt.show()"
   ]
  },
  {
   "cell_type": "code",
   "execution_count": null,
   "id": "74468628",
   "metadata": {},
   "outputs": [],
   "source": []
  },
  {
   "cell_type": "code",
   "execution_count": null,
   "id": "7da4fe09",
   "metadata": {},
   "outputs": [],
   "source": []
  }
 ],
 "metadata": {
  "kernelspec": {
   "display_name": "Python 3 (ipykernel)",
   "language": "python",
   "name": "python3"
  },
  "language_info": {
   "codemirror_mode": {
    "name": "ipython",
    "version": 3
   },
   "file_extension": ".py",
   "mimetype": "text/x-python",
   "name": "python",
   "nbconvert_exporter": "python",
   "pygments_lexer": "ipython3",
   "version": "3.9.12"
  }
 },
 "nbformat": 4,
 "nbformat_minor": 5
}
